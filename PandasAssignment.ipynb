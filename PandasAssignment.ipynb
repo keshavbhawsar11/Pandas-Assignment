{
 "cells": [
  {
   "cell_type": "code",
   "execution_count": 87,
   "id": "4ceda723-dcd8-4bcb-9b63-5ddd8288b56d",
   "metadata": {},
   "outputs": [],
   "source": [
    "import numpy as np\n",
    "import pandas as pd \n",
    "import matplotlib.pyplot as mlt\n",
    "import seaborn as sns "
   ]
  },
  {
   "cell_type": "code",
   "execution_count": 53,
   "id": "ebf88914-c9c0-497b-962a-0f165869433e",
   "metadata": {},
   "outputs": [],
   "source": [
    "# 1. Load the dataset using pd.read_csv() .\n",
    "netflix_df = pd.read_csv(\"netflix_titles.csv\")"
   ]
  },
  {
   "cell_type": "code",
   "execution_count": 54,
   "id": "2b1d6217-26aa-4c37-94bf-5299ce9cf99d",
   "metadata": {},
   "outputs": [
    {
     "data": {
      "text/html": [
       "<div>\n",
       "<style scoped>\n",
       "    .dataframe tbody tr th:only-of-type {\n",
       "        vertical-align: middle;\n",
       "    }\n",
       "\n",
       "    .dataframe tbody tr th {\n",
       "        vertical-align: top;\n",
       "    }\n",
       "\n",
       "    .dataframe thead th {\n",
       "        text-align: right;\n",
       "    }\n",
       "</style>\n",
       "<table border=\"1\" class=\"dataframe\">\n",
       "  <thead>\n",
       "    <tr style=\"text-align: right;\">\n",
       "      <th></th>\n",
       "      <th>show_id</th>\n",
       "      <th>type</th>\n",
       "      <th>title</th>\n",
       "      <th>director</th>\n",
       "      <th>cast</th>\n",
       "      <th>country</th>\n",
       "      <th>date_added</th>\n",
       "      <th>release_year</th>\n",
       "      <th>rating</th>\n",
       "      <th>duration</th>\n",
       "      <th>listed_in</th>\n",
       "      <th>description</th>\n",
       "    </tr>\n",
       "  </thead>\n",
       "  <tbody>\n",
       "    <tr>\n",
       "      <th>0</th>\n",
       "      <td>s1</td>\n",
       "      <td>Movie</td>\n",
       "      <td>Dick Johnson Is Dead</td>\n",
       "      <td>Kirsten Johnson</td>\n",
       "      <td>NaN</td>\n",
       "      <td>United States</td>\n",
       "      <td>September 25, 2021</td>\n",
       "      <td>2020</td>\n",
       "      <td>PG-13</td>\n",
       "      <td>90 min</td>\n",
       "      <td>Documentaries</td>\n",
       "      <td>As her father nears the end of his life, filmm...</td>\n",
       "    </tr>\n",
       "    <tr>\n",
       "      <th>1</th>\n",
       "      <td>s2</td>\n",
       "      <td>TV Show</td>\n",
       "      <td>Blood &amp; Water</td>\n",
       "      <td>NaN</td>\n",
       "      <td>Ama Qamata, Khosi Ngema, Gail Mabalane, Thaban...</td>\n",
       "      <td>South Africa</td>\n",
       "      <td>September 24, 2021</td>\n",
       "      <td>2021</td>\n",
       "      <td>TV-MA</td>\n",
       "      <td>2 Seasons</td>\n",
       "      <td>International TV Shows, TV Dramas, TV Mysteries</td>\n",
       "      <td>After crossing paths at a party, a Cape Town t...</td>\n",
       "    </tr>\n",
       "    <tr>\n",
       "      <th>2</th>\n",
       "      <td>s3</td>\n",
       "      <td>TV Show</td>\n",
       "      <td>Ganglands</td>\n",
       "      <td>Julien Leclercq</td>\n",
       "      <td>Sami Bouajila, Tracy Gotoas, Samuel Jouy, Nabi...</td>\n",
       "      <td>NaN</td>\n",
       "      <td>September 24, 2021</td>\n",
       "      <td>2021</td>\n",
       "      <td>TV-MA</td>\n",
       "      <td>1 Season</td>\n",
       "      <td>Crime TV Shows, International TV Shows, TV Act...</td>\n",
       "      <td>To protect his family from a powerful drug lor...</td>\n",
       "    </tr>\n",
       "    <tr>\n",
       "      <th>3</th>\n",
       "      <td>s4</td>\n",
       "      <td>TV Show</td>\n",
       "      <td>Jailbirds New Orleans</td>\n",
       "      <td>NaN</td>\n",
       "      <td>NaN</td>\n",
       "      <td>NaN</td>\n",
       "      <td>September 24, 2021</td>\n",
       "      <td>2021</td>\n",
       "      <td>TV-MA</td>\n",
       "      <td>1 Season</td>\n",
       "      <td>Docuseries, Reality TV</td>\n",
       "      <td>Feuds, flirtations and toilet talk go down amo...</td>\n",
       "    </tr>\n",
       "    <tr>\n",
       "      <th>4</th>\n",
       "      <td>s5</td>\n",
       "      <td>TV Show</td>\n",
       "      <td>Kota Factory</td>\n",
       "      <td>NaN</td>\n",
       "      <td>Mayur More, Jitendra Kumar, Ranjan Raj, Alam K...</td>\n",
       "      <td>India</td>\n",
       "      <td>September 24, 2021</td>\n",
       "      <td>2021</td>\n",
       "      <td>TV-MA</td>\n",
       "      <td>2 Seasons</td>\n",
       "      <td>International TV Shows, Romantic TV Shows, TV ...</td>\n",
       "      <td>In a city of coaching centers known to train I...</td>\n",
       "    </tr>\n",
       "    <tr>\n",
       "      <th>...</th>\n",
       "      <td>...</td>\n",
       "      <td>...</td>\n",
       "      <td>...</td>\n",
       "      <td>...</td>\n",
       "      <td>...</td>\n",
       "      <td>...</td>\n",
       "      <td>...</td>\n",
       "      <td>...</td>\n",
       "      <td>...</td>\n",
       "      <td>...</td>\n",
       "      <td>...</td>\n",
       "      <td>...</td>\n",
       "    </tr>\n",
       "    <tr>\n",
       "      <th>8802</th>\n",
       "      <td>s8803</td>\n",
       "      <td>Movie</td>\n",
       "      <td>Zodiac</td>\n",
       "      <td>David Fincher</td>\n",
       "      <td>Mark Ruffalo, Jake Gyllenhaal, Robert Downey J...</td>\n",
       "      <td>United States</td>\n",
       "      <td>November 20, 2019</td>\n",
       "      <td>2007</td>\n",
       "      <td>R</td>\n",
       "      <td>158 min</td>\n",
       "      <td>Cult Movies, Dramas, Thrillers</td>\n",
       "      <td>A political cartoonist, a crime reporter and a...</td>\n",
       "    </tr>\n",
       "    <tr>\n",
       "      <th>8803</th>\n",
       "      <td>s8804</td>\n",
       "      <td>TV Show</td>\n",
       "      <td>Zombie Dumb</td>\n",
       "      <td>NaN</td>\n",
       "      <td>NaN</td>\n",
       "      <td>NaN</td>\n",
       "      <td>July 1, 2019</td>\n",
       "      <td>2018</td>\n",
       "      <td>TV-Y7</td>\n",
       "      <td>2 Seasons</td>\n",
       "      <td>Kids' TV, Korean TV Shows, TV Comedies</td>\n",
       "      <td>While living alone in a spooky town, a young g...</td>\n",
       "    </tr>\n",
       "    <tr>\n",
       "      <th>8804</th>\n",
       "      <td>s8805</td>\n",
       "      <td>Movie</td>\n",
       "      <td>Zombieland</td>\n",
       "      <td>Ruben Fleischer</td>\n",
       "      <td>Jesse Eisenberg, Woody Harrelson, Emma Stone, ...</td>\n",
       "      <td>United States</td>\n",
       "      <td>November 1, 2019</td>\n",
       "      <td>2009</td>\n",
       "      <td>R</td>\n",
       "      <td>88 min</td>\n",
       "      <td>Comedies, Horror Movies</td>\n",
       "      <td>Looking to survive in a world taken over by zo...</td>\n",
       "    </tr>\n",
       "    <tr>\n",
       "      <th>8805</th>\n",
       "      <td>s8806</td>\n",
       "      <td>Movie</td>\n",
       "      <td>Zoom</td>\n",
       "      <td>Peter Hewitt</td>\n",
       "      <td>Tim Allen, Courteney Cox, Chevy Chase, Kate Ma...</td>\n",
       "      <td>United States</td>\n",
       "      <td>January 11, 2020</td>\n",
       "      <td>2006</td>\n",
       "      <td>PG</td>\n",
       "      <td>88 min</td>\n",
       "      <td>Children &amp; Family Movies, Comedies</td>\n",
       "      <td>Dragged from civilian life, a former superhero...</td>\n",
       "    </tr>\n",
       "    <tr>\n",
       "      <th>8806</th>\n",
       "      <td>s8807</td>\n",
       "      <td>Movie</td>\n",
       "      <td>Zubaan</td>\n",
       "      <td>Mozez Singh</td>\n",
       "      <td>Vicky Kaushal, Sarah-Jane Dias, Raaghav Chanan...</td>\n",
       "      <td>India</td>\n",
       "      <td>March 2, 2019</td>\n",
       "      <td>2015</td>\n",
       "      <td>TV-14</td>\n",
       "      <td>111 min</td>\n",
       "      <td>Dramas, International Movies, Music &amp; Musicals</td>\n",
       "      <td>A scrappy but poor boy worms his way into a ty...</td>\n",
       "    </tr>\n",
       "  </tbody>\n",
       "</table>\n",
       "<p>8807 rows × 12 columns</p>\n",
       "</div>"
      ],
      "text/plain": [
       "     show_id     type                  title         director  \\\n",
       "0         s1    Movie   Dick Johnson Is Dead  Kirsten Johnson   \n",
       "1         s2  TV Show          Blood & Water              NaN   \n",
       "2         s3  TV Show              Ganglands  Julien Leclercq   \n",
       "3         s4  TV Show  Jailbirds New Orleans              NaN   \n",
       "4         s5  TV Show           Kota Factory              NaN   \n",
       "...      ...      ...                    ...              ...   \n",
       "8802   s8803    Movie                 Zodiac    David Fincher   \n",
       "8803   s8804  TV Show            Zombie Dumb              NaN   \n",
       "8804   s8805    Movie             Zombieland  Ruben Fleischer   \n",
       "8805   s8806    Movie                   Zoom     Peter Hewitt   \n",
       "8806   s8807    Movie                 Zubaan      Mozez Singh   \n",
       "\n",
       "                                                   cast        country  \\\n",
       "0                                                   NaN  United States   \n",
       "1     Ama Qamata, Khosi Ngema, Gail Mabalane, Thaban...   South Africa   \n",
       "2     Sami Bouajila, Tracy Gotoas, Samuel Jouy, Nabi...            NaN   \n",
       "3                                                   NaN            NaN   \n",
       "4     Mayur More, Jitendra Kumar, Ranjan Raj, Alam K...          India   \n",
       "...                                                 ...            ...   \n",
       "8802  Mark Ruffalo, Jake Gyllenhaal, Robert Downey J...  United States   \n",
       "8803                                                NaN            NaN   \n",
       "8804  Jesse Eisenberg, Woody Harrelson, Emma Stone, ...  United States   \n",
       "8805  Tim Allen, Courteney Cox, Chevy Chase, Kate Ma...  United States   \n",
       "8806  Vicky Kaushal, Sarah-Jane Dias, Raaghav Chanan...          India   \n",
       "\n",
       "              date_added  release_year rating   duration  \\\n",
       "0     September 25, 2021          2020  PG-13     90 min   \n",
       "1     September 24, 2021          2021  TV-MA  2 Seasons   \n",
       "2     September 24, 2021          2021  TV-MA   1 Season   \n",
       "3     September 24, 2021          2021  TV-MA   1 Season   \n",
       "4     September 24, 2021          2021  TV-MA  2 Seasons   \n",
       "...                  ...           ...    ...        ...   \n",
       "8802   November 20, 2019          2007      R    158 min   \n",
       "8803        July 1, 2019          2018  TV-Y7  2 Seasons   \n",
       "8804    November 1, 2019          2009      R     88 min   \n",
       "8805    January 11, 2020          2006     PG     88 min   \n",
       "8806       March 2, 2019          2015  TV-14    111 min   \n",
       "\n",
       "                                              listed_in  \\\n",
       "0                                         Documentaries   \n",
       "1       International TV Shows, TV Dramas, TV Mysteries   \n",
       "2     Crime TV Shows, International TV Shows, TV Act...   \n",
       "3                                Docuseries, Reality TV   \n",
       "4     International TV Shows, Romantic TV Shows, TV ...   \n",
       "...                                                 ...   \n",
       "8802                     Cult Movies, Dramas, Thrillers   \n",
       "8803             Kids' TV, Korean TV Shows, TV Comedies   \n",
       "8804                            Comedies, Horror Movies   \n",
       "8805                 Children & Family Movies, Comedies   \n",
       "8806     Dramas, International Movies, Music & Musicals   \n",
       "\n",
       "                                            description  \n",
       "0     As her father nears the end of his life, filmm...  \n",
       "1     After crossing paths at a party, a Cape Town t...  \n",
       "2     To protect his family from a powerful drug lor...  \n",
       "3     Feuds, flirtations and toilet talk go down amo...  \n",
       "4     In a city of coaching centers known to train I...  \n",
       "...                                                 ...  \n",
       "8802  A political cartoonist, a crime reporter and a...  \n",
       "8803  While living alone in a spooky town, a young g...  \n",
       "8804  Looking to survive in a world taken over by zo...  \n",
       "8805  Dragged from civilian life, a former superhero...  \n",
       "8806  A scrappy but poor boy worms his way into a ty...  \n",
       "\n",
       "[8807 rows x 12 columns]"
      ]
     },
     "execution_count": 54,
     "metadata": {},
     "output_type": "execute_result"
    }
   ],
   "source": [
    "netflix_df"
   ]
  },
  {
   "cell_type": "code",
   "execution_count": 55,
   "id": "6ff0d7d1-5b5b-4ac1-a0fd-59707e77844d",
   "metadata": {},
   "outputs": [
    {
     "name": "stdout",
     "output_type": "stream",
     "text": [
      "  show_id     type                  title         director  \\\n",
      "0      s1    Movie   Dick Johnson Is Dead  Kirsten Johnson   \n",
      "1      s2  TV Show          Blood & Water              NaN   \n",
      "2      s3  TV Show              Ganglands  Julien Leclercq   \n",
      "3      s4  TV Show  Jailbirds New Orleans              NaN   \n",
      "4      s5  TV Show           Kota Factory              NaN   \n",
      "\n",
      "                                                cast        country  \\\n",
      "0                                                NaN  United States   \n",
      "1  Ama Qamata, Khosi Ngema, Gail Mabalane, Thaban...   South Africa   \n",
      "2  Sami Bouajila, Tracy Gotoas, Samuel Jouy, Nabi...            NaN   \n",
      "3                                                NaN            NaN   \n",
      "4  Mayur More, Jitendra Kumar, Ranjan Raj, Alam K...          India   \n",
      "\n",
      "           date_added  release_year rating   duration  \\\n",
      "0  September 25, 2021          2020  PG-13     90 min   \n",
      "1  September 24, 2021          2021  TV-MA  2 Seasons   \n",
      "2  September 24, 2021          2021  TV-MA   1 Season   \n",
      "3  September 24, 2021          2021  TV-MA   1 Season   \n",
      "4  September 24, 2021          2021  TV-MA  2 Seasons   \n",
      "\n",
      "                                           listed_in  \\\n",
      "0                                      Documentaries   \n",
      "1    International TV Shows, TV Dramas, TV Mysteries   \n",
      "2  Crime TV Shows, International TV Shows, TV Act...   \n",
      "3                             Docuseries, Reality TV   \n",
      "4  International TV Shows, Romantic TV Shows, TV ...   \n",
      "\n",
      "                                         description  \n",
      "0  As her father nears the end of his life, filmm...  \n",
      "1  After crossing paths at a party, a Cape Town t...  \n",
      "2  To protect his family from a powerful drug lor...  \n",
      "3  Feuds, flirtations and toilet talk go down amo...  \n",
      "4  In a city of coaching centers known to train I...  \n",
      "     show_id     type        title         director  \\\n",
      "8802   s8803    Movie       Zodiac    David Fincher   \n",
      "8803   s8804  TV Show  Zombie Dumb              NaN   \n",
      "8804   s8805    Movie   Zombieland  Ruben Fleischer   \n",
      "8805   s8806    Movie         Zoom     Peter Hewitt   \n",
      "8806   s8807    Movie       Zubaan      Mozez Singh   \n",
      "\n",
      "                                                   cast        country  \\\n",
      "8802  Mark Ruffalo, Jake Gyllenhaal, Robert Downey J...  United States   \n",
      "8803                                                NaN            NaN   \n",
      "8804  Jesse Eisenberg, Woody Harrelson, Emma Stone, ...  United States   \n",
      "8805  Tim Allen, Courteney Cox, Chevy Chase, Kate Ma...  United States   \n",
      "8806  Vicky Kaushal, Sarah-Jane Dias, Raaghav Chanan...          India   \n",
      "\n",
      "             date_added  release_year rating   duration  \\\n",
      "8802  November 20, 2019          2007      R    158 min   \n",
      "8803       July 1, 2019          2018  TV-Y7  2 Seasons   \n",
      "8804   November 1, 2019          2009      R     88 min   \n",
      "8805   January 11, 2020          2006     PG     88 min   \n",
      "8806      March 2, 2019          2015  TV-14    111 min   \n",
      "\n",
      "                                           listed_in  \\\n",
      "8802                  Cult Movies, Dramas, Thrillers   \n",
      "8803          Kids' TV, Korean TV Shows, TV Comedies   \n",
      "8804                         Comedies, Horror Movies   \n",
      "8805              Children & Family Movies, Comedies   \n",
      "8806  Dramas, International Movies, Music & Musicals   \n",
      "\n",
      "                                            description  \n",
      "8802  A political cartoonist, a crime reporter and a...  \n",
      "8803  While living alone in a spooky town, a young g...  \n",
      "8804  Looking to survive in a world taken over by zo...  \n",
      "8805  Dragged from civilian life, a former superhero...  \n",
      "8806  A scrappy but poor boy worms his way into a ty...  \n"
     ]
    }
   ],
   "source": [
    "# 2. Display the first 5 and last 5 rows.\n",
    "print(netflix_df.head())\n",
    "print(netflix_df.tail())"
   ]
  },
  {
   "cell_type": "code",
   "execution_count": 56,
   "id": "3764ee6c-9966-4715-a107-ecf952b34f6e",
   "metadata": {},
   "outputs": [
    {
     "name": "stdout",
     "output_type": "stream",
     "text": [
      "(8807, 12)\n"
     ]
    }
   ],
   "source": [
    "# 3. How many rows and columns are there in the dataset?\n",
    "print(netflix_df.shape)\n"
   ]
  },
  {
   "cell_type": "code",
   "execution_count": 57,
   "id": "09f414b8-c107-45b2-b875-fa5a9346fda7",
   "metadata": {},
   "outputs": [
    {
     "name": "stdout",
     "output_type": "stream",
     "text": [
      "748\n"
     ]
    }
   ],
   "source": [
    "# 4. Identify the number of unique countries where content is produced.\n",
    "print(netflix_df['country'].nunique())\n"
   ]
  },
  {
   "cell_type": "code",
   "execution_count": 58,
   "id": "c237388a-6896-466f-b7ef-f8ef451d7fca",
   "metadata": {},
   "outputs": [
    {
     "name": "stdout",
     "output_type": "stream",
     "text": [
      "     show_id     type                  title         director  \\\n",
      "1         s2  TV Show          Blood & Water              NaN   \n",
      "2         s3  TV Show              Ganglands  Julien Leclercq   \n",
      "3         s4  TV Show  Jailbirds New Orleans              NaN   \n",
      "4         s5  TV Show           Kota Factory              NaN   \n",
      "5         s6  TV Show          Midnight Mass    Mike Flanagan   \n",
      "...      ...      ...                    ...              ...   \n",
      "8795   s8796  TV Show        Yu-Gi-Oh! Arc-V              NaN   \n",
      "8796   s8797  TV Show             Yunus Emre              NaN   \n",
      "8797   s8798  TV Show              Zak Storm              NaN   \n",
      "8800   s8801  TV Show     Zindagi Gulzar Hai              NaN   \n",
      "8803   s8804  TV Show            Zombie Dumb              NaN   \n",
      "\n",
      "                                                   cast  \\\n",
      "1     Ama Qamata, Khosi Ngema, Gail Mabalane, Thaban...   \n",
      "2     Sami Bouajila, Tracy Gotoas, Samuel Jouy, Nabi...   \n",
      "3                                                   NaN   \n",
      "4     Mayur More, Jitendra Kumar, Ranjan Raj, Alam K...   \n",
      "5     Kate Siegel, Zach Gilford, Hamish Linklater, H...   \n",
      "...                                                 ...   \n",
      "8795  Mike Liscio, Emily Bauer, Billy Bob Thompson, ...   \n",
      "8796  Gökhan Atalay, Payidar Tüfekçioglu, Baran Akbu...   \n",
      "8797  Michael Johnston, Jessica Gee-George, Christin...   \n",
      "8800  Sanam Saeed, Fawad Khan, Ayesha Omer, Mehreen ...   \n",
      "8803                                                NaN   \n",
      "\n",
      "                                            country          date_added  \\\n",
      "1                                      South Africa  September 24, 2021   \n",
      "2                                               NaN  September 24, 2021   \n",
      "3                                               NaN  September 24, 2021   \n",
      "4                                             India  September 24, 2021   \n",
      "5                                               NaN  September 24, 2021   \n",
      "...                                             ...                 ...   \n",
      "8795                                  Japan, Canada         May 1, 2018   \n",
      "8796                                         Turkey    January 17, 2017   \n",
      "8797  United States, France, South Korea, Indonesia  September 13, 2018   \n",
      "8800                                       Pakistan   December 15, 2016   \n",
      "8803                                            NaN        July 1, 2019   \n",
      "\n",
      "      release_year rating   duration  \\\n",
      "1             2021  TV-MA  2 Seasons   \n",
      "2             2021  TV-MA   1 Season   \n",
      "3             2021  TV-MA   1 Season   \n",
      "4             2021  TV-MA  2 Seasons   \n",
      "5             2021  TV-MA   1 Season   \n",
      "...            ...    ...        ...   \n",
      "8795          2015  TV-Y7  2 Seasons   \n",
      "8796          2016  TV-PG  2 Seasons   \n",
      "8797          2016  TV-Y7  3 Seasons   \n",
      "8800          2012  TV-PG   1 Season   \n",
      "8803          2018  TV-Y7  2 Seasons   \n",
      "\n",
      "                                              listed_in  \\\n",
      "1       International TV Shows, TV Dramas, TV Mysteries   \n",
      "2     Crime TV Shows, International TV Shows, TV Act...   \n",
      "3                                Docuseries, Reality TV   \n",
      "4     International TV Shows, Romantic TV Shows, TV ...   \n",
      "5                    TV Dramas, TV Horror, TV Mysteries   \n",
      "...                                                 ...   \n",
      "8795                             Anime Series, Kids' TV   \n",
      "8796                  International TV Shows, TV Dramas   \n",
      "8797                                           Kids' TV   \n",
      "8800  International TV Shows, Romantic TV Shows, TV ...   \n",
      "8803             Kids' TV, Korean TV Shows, TV Comedies   \n",
      "\n",
      "                                            description  \n",
      "1     After crossing paths at a party, a Cape Town t...  \n",
      "2     To protect his family from a powerful drug lor...  \n",
      "3     Feuds, flirtations and toilet talk go down amo...  \n",
      "4     In a city of coaching centers known to train I...  \n",
      "5     The arrival of a charismatic young priest brin...  \n",
      "...                                                 ...  \n",
      "8795  Now that he's discovered the Pendulum Summonin...  \n",
      "8796  During the Mongol invasions, Yunus Emre leaves...  \n",
      "8797  Teen surfer Zak Storm is mysteriously transpor...  \n",
      "8800  Strong-willed, middle-class Kashaf and carefre...  \n",
      "8803  While living alone in a spooky town, a young g...  \n",
      "\n",
      "[2676 rows x 12 columns]\n"
     ]
    }
   ],
   "source": [
    "# 5. Display all records where the type is 'TV Show'.\n",
    "tv_shows = netflix_df[netflix_df['type'] == 'TV Show']\n",
    "print(tv_shows)"
   ]
  },
  {
   "cell_type": "code",
   "execution_count": 59,
   "id": "8a3db31a-23d1-41ab-8cfb-44f67a9925a7",
   "metadata": {},
   "outputs": [
    {
     "name": "stdout",
     "output_type": "stream",
     "text": [
      "  date_added  year_added  month_added\n",
      "0 2021-09-25      2021.0          9.0\n",
      "1 2021-09-24      2021.0          9.0\n",
      "2 2021-09-24      2021.0          9.0\n",
      "3 2021-09-24      2021.0          9.0\n",
      "4 2021-09-24      2021.0          9.0\n",
      "5 2021-09-24      2021.0          9.0\n",
      "6 2021-09-24      2021.0          9.0\n",
      "7 2021-09-24      2021.0          9.0\n",
      "8 2021-09-24      2021.0          9.0\n",
      "9 2021-09-24      2021.0          9.0\n"
     ]
    }
   ],
   "source": [
    "# 6. Convert the date_added column to datetime and extract the year and month.\n",
    "netflix_df['date_added'] = pd.to_datetime(netflix_df['date_added'].astype(str).str.strip(), errors='coerce')\n",
    "netflix_df['year_added'] = netflix_df['date_added'].dt.year\n",
    "netflix_df['month_added'] = netflix_df['date_added'].dt.month\n",
    "print(netflix_df[['date_added', 'year_added', 'month_added']].head(10))  # Display first 10 rows\n",
    "\n"
   ]
  },
  {
   "cell_type": "code",
   "execution_count": 60,
   "id": "494cd98f-27a0-4513-8ca7-a714bdae2674",
   "metadata": {},
   "outputs": [
    {
     "name": "stdout",
     "output_type": "stream",
     "text": [
      "633\n"
     ]
    }
   ],
   "source": [
    "# 7. How many movies were released in 2019?\n",
    "movies_2019 = netflix_df[(netflix_df['type'] == 'Movie') & (netflix_df['release_year'] == 2019)]\n",
    "print(len(movies_2019))"
   ]
  },
  {
   "cell_type": "code",
   "execution_count": 61,
   "id": "f7cec20b-751e-48cc-a6d1-4a265a19970d",
   "metadata": {},
   "outputs": [
    {
     "name": "stdout",
     "output_type": "stream",
     "text": [
      "rating\n",
      "TV-MA       3207\n",
      "TV-14       2160\n",
      "TV-PG        863\n",
      "R            799\n",
      "PG-13        490\n",
      "TV-Y7        334\n",
      "TV-Y         307\n",
      "PG           287\n",
      "TV-G         220\n",
      "NR            80\n",
      "G             41\n",
      "TV-Y7-FV       6\n",
      "NC-17          3\n",
      "UR             3\n",
      "74 min         1\n",
      "84 min         1\n",
      "66 min         1\n",
      "Name: count, dtype: int64\n"
     ]
    }
   ],
   "source": [
    "# 8. Group by rating and show the count of each cat\n",
    "rating_counts = netflix_df['rating'].value_counts()\n",
    "print(rating_counts)\n"
   ]
  },
  {
   "cell_type": "code",
   "execution_count": 62,
   "id": "ff7a62fa-0f95-491a-8373-301096ff22e7",
   "metadata": {},
   "outputs": [],
   "source": [
    "# PART 2............\n"
   ]
  },
  {
   "cell_type": "code",
   "execution_count": 63,
   "id": "0d015ae4-2ae9-4e6c-aa0f-19aad33404e6",
   "metadata": {},
   "outputs": [
    {
     "name": "stdout",
     "output_type": "stream",
     "text": [
      "   Rank CCA3    Country/Territory           Capital      Continent  \\\n",
      "0    36  AFG          Afghanistan             Kabul           Asia   \n",
      "1   138  ALB              Albania            Tirana         Europe   \n",
      "2    34  DZA              Algeria           Algiers         Africa   \n",
      "3   213  ASM       American Samoa         Pago Pago        Oceania   \n",
      "4   203  AND              Andorra  Andorra la Vella         Europe   \n",
      "5    42  AGO               Angola            Luanda         Africa   \n",
      "6   224  AIA             Anguilla        The Valley  North America   \n",
      "7   201  ATG  Antigua and Barbuda      Saint John’s  North America   \n",
      "8    33  ARG            Argentina      Buenos Aires  South America   \n",
      "9   140  ARM              Armenia           Yerevan           Asia   \n",
      "\n",
      "   2022 Population  2020 Population  2015 Population  2010 Population  \\\n",
      "0         41128771         38972230         33753499         28189672   \n",
      "1          2842321          2866849          2882481          2913399   \n",
      "2         44903225         43451666         39543154         35856344   \n",
      "3            44273            46189            51368            54849   \n",
      "4            79824            77700            71746            71519   \n",
      "5         35588987         33428485         28127721         23364185   \n",
      "6            15857            15585            14525            13172   \n",
      "7            93763            92664            89941            85695   \n",
      "8         45510318         45036032         43257065         41100123   \n",
      "9          2780469          2805608          2878595          2946293   \n",
      "\n",
      "   2000 Population  1990 Population  1980 Population  1970 Population  \\\n",
      "0         19542982         10694796         12486631         10752971   \n",
      "1          3182021          3295066          2941651          2324731   \n",
      "2         30774621         25518074         18739378         13795915   \n",
      "3            58230            47818            32886            27075   \n",
      "4            66097            53569            35611            19860   \n",
      "5         16394062         11828638          8330047          6029700   \n",
      "6            11047             8316             6560             6283   \n",
      "7            75055            63328            64888            64516   \n",
      "8         37070774         32637657         28024803         23842803   \n",
      "9          3168523          3556539          3135123          2534377   \n",
      "\n",
      "   Area (km²)  Density (per km²)  Growth Rate  World Population Percentage  \n",
      "0      652230            63.0587       1.0257                         0.52  \n",
      "1       28748            98.8702       0.9957                         0.04  \n",
      "2     2381741            18.8531       1.0164                         0.56  \n",
      "3         199           222.4774       0.9831                         0.00  \n",
      "4         468           170.5641       1.0100                         0.00  \n",
      "5     1246700            28.5466       1.0315                         0.45  \n",
      "6          91           174.2527       1.0066                         0.00  \n",
      "7         442           212.1335       1.0058                         0.00  \n",
      "8     2780400            16.3683       1.0052                         0.57  \n",
      "9       29743            93.4831       0.9962                         0.03  \n"
     ]
    }
   ],
   "source": [
    "# 1. Load and display the top 10 rows.\n",
    "world_df = pd.read_csv('world_population.csv')\n",
    "print(world_df.head(10))"
   ]
  },
  {
   "cell_type": "code",
   "execution_count": 64,
   "id": "9b739cd1-6c14-4725-910f-ae25e08a3954",
   "metadata": {},
   "outputs": [
    {
     "name": "stdout",
     "output_type": "stream",
     "text": [
      "Rank                           0\n",
      "CCA3                           0\n",
      "Country/Territory              0\n",
      "Capital                        0\n",
      "Continent                      0\n",
      "2022 Population                0\n",
      "2020 Population                0\n",
      "2015 Population                0\n",
      "2010 Population                0\n",
      "2000 Population                0\n",
      "1990 Population                0\n",
      "1980 Population                0\n",
      "1970 Population                0\n",
      "Area (km²)                     0\n",
      "Density (per km²)              0\n",
      "Growth Rate                    0\n",
      "World Population Percentage    0\n",
      "dtype: int64\n"
     ]
    }
   ],
   "source": [
    "# 2. Check for null values and handle them appropriately.\n",
    "print(world_df.isnull().sum())\n",
    "world_df.fillna(0, inplace=True)  "
   ]
  },
  {
   "cell_type": "code",
   "execution_count": 65,
   "id": "06998fbf-37f8-452f-a2fb-6cbe8ec7c155",
   "metadata": {},
   "outputs": [
    {
     "name": "stdout",
     "output_type": "stream",
     "text": [
      "    Country/Territory  2022 Population\n",
      "41              China       1425887337\n",
      "92              India       1417173173\n",
      "221     United States        338289857\n",
      "93          Indonesia        275501339\n",
      "156          Pakistan        235824862\n"
     ]
    }
   ],
   "source": [
    "# 3. What is the population of the top 5 most populous countries?\n",
    "top5_populous = world_df.sort_values(by='2022 Population', ascending=False).head(5)\n",
    "print(top5_populous[['Country/Territory', '2022 Population']])"
   ]
  },
  {
   "cell_type": "code",
   "execution_count": 66,
   "id": "8170498a-cdc0-48e5-8929-f15248eaa40b",
   "metadata": {},
   "outputs": [
    {
     "name": "stdout",
     "output_type": "stream",
     "text": [
      "  Country/Territory  GDP (in Billion USD)  GDP_per_capita\n",
      "0       Afghanistan          14934.192626    3.631082e+05\n",
      "1           Albania          23924.305930    8.417172e+06\n",
      "2           Algeria          24224.596468    5.394846e+05\n",
      "3    American Samoa          15590.549550    3.521458e+08\n",
      "4           Andorra          11012.255653    1.379567e+08\n"
     ]
    }
   ],
   "source": [
    "# 4. Create a new column showing GDP per capita ( GDP / Population ).\n",
    "world_df['GDP (in Billion USD)'] = np.random.uniform(100, 25000, size=len(world_df))\n",
    "world_df['GDP_per_capita'] = (world_df['GDP (in Billion USD)'] * 1e9) / world_df['2022 Population']\n",
    "print(world_df[['Country/Territory', 'GDP (in Billion USD)', 'GDP_per_capita']].head())\n"
   ]
  },
  {
   "cell_type": "code",
   "execution_count": 67,
   "id": "3de2eb44-40df-4d96-bc4f-665c4b3cc00d",
   "metadata": {},
   "outputs": [
    {
     "name": "stdout",
     "output_type": "stream",
     "text": [
      "    Country/Territory  2022 Population  Area (km²)\n",
      "16         Bangladesh        171186372      147570\n",
      "102             Japan        123951692      377930\n",
      "163       Philippines        115559009      342353\n"
     ]
    }
   ],
   "source": [
    "# 5. Filter out countries with population > 100 million and area < 500,000 sq km.\n",
    "filtered_df = world_df[\n",
    "    (world_df['2022 Population'] > 1e8) &\n",
    "    (world_df['Area (km²)'] < 500000)\n",
    "]\n",
    "print(filtered_df[['Country/Territory', '2022 Population', 'Area (km²)']])\n"
   ]
  },
  {
   "cell_type": "code",
   "execution_count": 68,
   "id": "c19e43e0-41ab-4823-b21f-7dfe6575738f",
   "metadata": {},
   "outputs": [
    {
     "name": "stdout",
     "output_type": "stream",
     "text": [
      "    Country/Territory  Density (per km²)\n",
      "119             Macau         23172.2667\n",
      "134            Monaco         18234.5000\n",
      "187         Singapore          8416.4634\n",
      "89          Hong Kong          6783.3922\n",
      "76          Gibraltar          5441.5000\n",
      "15            Bahrain          1924.4876\n",
      "123          Maldives          1745.9567\n",
      "125             Malta          1687.6139\n",
      "188      Sint Maarten          1299.2647\n",
      "22            Bermuda          1188.5926\n"
     ]
    }
   ],
   "source": [
    "# 6. Sort by density\n",
    "sorted_density = world_df.sort_values(by='Density (per km²)', ascending=False)\n",
    "print(sorted_density[['Country/Territory', 'Density (per km²)']].head(10))\n"
   ]
  },
  {
   "cell_type": "code",
   "execution_count": 69,
   "id": "cd199c48-886d-49e4-8134-ff1cad55040e",
   "metadata": {},
   "outputs": [],
   "source": [
    "# PART 3 ..."
   ]
  },
  {
   "cell_type": "code",
   "execution_count": 70,
   "id": "cb4b9c03-c4f4-4b5c-9cf4-0135e47bafd0",
   "metadata": {},
   "outputs": [],
   "source": [
    "# 1. Load the matches.csv file.\n",
    "matches = pd.read_csv('matches.csv')\n"
   ]
  },
  {
   "cell_type": "code",
   "execution_count": 71,
   "id": "b22547ce-7141-4b92-b515-8a06a0aa33c6",
   "metadata": {},
   "outputs": [
    {
     "name": "stdout",
     "output_type": "stream",
     "text": [
      "Mumbai Indians\n"
     ]
    }
   ],
   "source": [
    "# 2. Find out the most successful team (based on the number of wins).\n",
    "print(matches['winner'].value_counts().idxmax())"
   ]
  },
  {
   "cell_type": "code",
   "execution_count": 72,
   "id": "26a76b7a-76e3-46e5-af44-8833aac02faf",
   "metadata": {},
   "outputs": [
    {
     "name": "stdout",
     "output_type": "stream",
     "text": [
      "season\n",
      "2013       76\n",
      "2023       74\n",
      "2012       74\n",
      "2022       74\n",
      "2011       73\n",
      "2024       71\n",
      "2018       60\n",
      "2021       60\n",
      "2020/21    60\n",
      "2019       60\n",
      "2016       60\n",
      "2014       60\n",
      "2009/10    60\n",
      "2017       59\n",
      "2015       59\n",
      "2007/08    58\n",
      "2009       57\n",
      "Name: count, dtype: int64\n"
     ]
    }
   ],
   "source": [
    "# 3. Count total matches played each season.\n",
    "print(matches['season'].value_counts())\n"
   ]
  },
  {
   "cell_type": "code",
   "execution_count": 73,
   "id": "1fa0ea14-0be4-414d-b864-fdc50d070fb2",
   "metadata": {},
   "outputs": [
    {
     "name": "stdout",
     "output_type": "stream",
     "text": [
      "player_of_match\n",
      "AB de Villiers    25\n",
      "CH Gayle          22\n",
      "RG Sharma         19\n",
      "DA Warner         18\n",
      "V Kohli           18\n",
      "Name: count, dtype: int64\n"
     ]
    }
   ],
   "source": [
    "# 4. Display the top 5 players who won the most \"Player of the Match\" awards.\n",
    "print(matches['player_of_match'].value_counts().head(5))\n"
   ]
  },
  {
   "cell_type": "code",
   "execution_count": 111,
   "id": "0b8db7fa-6f9e-4da4-bed9-64c67f8d1b83",
   "metadata": {
    "scrolled": true
   },
   "outputs": [],
   "source": [
    "# # 5. Merge matches.csv and deliveries.csv on match_id and perform analysis\n"
   ]
  },
  {
   "cell_type": "code",
   "execution_count": null,
   "id": "7e60a573-23c5-405c-b591-4e92a17714a0",
   "metadata": {},
   "outputs": [],
   "source": [
    "# PART 4 .... "
   ]
  },
  {
   "cell_type": "code",
   "execution_count": 81,
   "id": "6d747576-2ef8-46f9-a763-c9bd67808d81",
   "metadata": {},
   "outputs": [],
   "source": [
    "# Load dataset\n",
    "students_df = pd.read_csv('StudentsPerformance.csv')"
   ]
  },
  {
   "cell_type": "code",
   "execution_count": 82,
   "id": "8e72e44d-29b1-4432-8333-aa5ce9e9ec12",
   "metadata": {},
   "outputs": [
    {
     "name": "stdout",
     "output_type": "stream",
     "text": [
      "math score       66.089\n",
      "reading score    69.169\n",
      "writing score    68.054\n",
      "dtype: float64\n"
     ]
    }
   ],
   "source": [
    "# 1. Display average marks in math, reading, and writing.\n",
    "print(students_df[['math score', 'reading score', 'writing score']].mean())\n"
   ]
  },
  {
   "cell_type": "code",
   "execution_count": 83,
   "id": "1cb0c0ed-439d-4ded-8a98-199559d7f726",
   "metadata": {},
   "outputs": [
    {
     "name": "stdout",
     "output_type": "stream",
     "text": [
      "gender\n",
      "female    72.467181\n",
      "male      63.311203\n",
      "Name: writing score, dtype: float64\n"
     ]
    }
   ],
   "source": [
    "# 2. Who performed better in writing – males or females?\n",
    "print(students_df.groupby('gender')['writing score'].mean())\n"
   ]
  },
  {
   "cell_type": "code",
   "execution_count": 85,
   "id": "d566ae83-346f-4fdf-b9fc-fed6ac9a2651",
   "metadata": {},
   "outputs": [],
   "source": [
    "# 3. Add a new column for total score and percentage.\n",
    "students_df['total_score'] = students_df[['math score', 'reading score', 'writing score']].sum(axis=1)\n",
    "students_df['percentage'] = students_df['total_score'] / 3"
   ]
  },
  {
   "cell_type": "code",
   "execution_count": 88,
   "id": "06c9ca4d-d0be-430d-a75d-8d4c686d1ea6",
   "metadata": {},
   "outputs": [
    {
     "data": {
      "image/png": "[encoded data removed]",
      "text/plain": [
       "<Figure size 1000x600 with 1 Axes>"
      ]
     },
     "metadata": {},
     "output_type": "display_data"
    }
   ],
   "source": [
    "# 4. Plot a bar chart showing average scores grouped by parental level of education.\n",
    "grouped = students_df.groupby('parental level of education')[['math score', 'reading score', 'writing score']].mean()\n",
    "grouped.plot(kind='bar', figsize=(10,6))\n",
    "mlt.ylabel('Average Score')\n",
    "mlt.title('Average Scores by Parental Education')\n",
    "mlt.show()"
   ]
  },
  {
   "cell_type": "code",
   "execution_count": 89,
   "id": "7e86c41f-25a4-44ba-9413-7acf127706b1",
   "metadata": {},
   "outputs": [
    {
     "name": "stdout",
     "output_type": "stream",
     "text": [
      "     gender race/ethnicity parental level of education         lunch  \\\n",
      "114  female        group E           bachelor's degree      standard   \n",
      "149    male        group E          associate's degree  free/reduced   \n",
      "165  female        group C           bachelor's degree      standard   \n",
      "179  female        group D            some high school      standard   \n",
      "451  female        group E                some college      standard   \n",
      "458  female        group E           bachelor's degree      standard   \n",
      "546  female        group A            some high school      standard   \n",
      "566  female        group E           bachelor's degree  free/reduced   \n",
      "571    male        group A           bachelor's degree      standard   \n",
      "594  female        group C           bachelor's degree      standard   \n",
      "625    male        group D                some college      standard   \n",
      "685  female        group E             master's degree      standard   \n",
      "712  female        group D                some college      standard   \n",
      "717  female        group C          associate's degree      standard   \n",
      "855  female        group B           bachelor's degree      standard   \n",
      "864    male        group C          associate's degree      standard   \n",
      "886  female        group E          associate's degree      standard   \n",
      "903  female        group D           bachelor's degree  free/reduced   \n",
      "916    male        group E           bachelor's degree      standard   \n",
      "919    male        group B                some college      standard   \n",
      "957  female        group D             master's degree      standard   \n",
      "962  female        group E          associate's degree      standard   \n",
      "979  female        group C          associate's degree      standard   \n",
      "\n",
      "    test preparation course  math score  reading score  writing score  \\\n",
      "114               completed          99            100            100   \n",
      "149               completed         100            100             93   \n",
      "165               completed          96            100            100   \n",
      "179               completed          97            100            100   \n",
      "451                    none         100             92             97   \n",
      "458                    none         100            100            100   \n",
      "546               completed          92            100             97   \n",
      "566               completed          92            100            100   \n",
      "571                    none          91             96             92   \n",
      "594               completed          92            100             99   \n",
      "625               completed         100             97             99   \n",
      "685               completed          94             99            100   \n",
      "712                    none          98            100             99   \n",
      "717               completed          96             96             99   \n",
      "855                    none          97             97             96   \n",
      "864                    none          97             93             91   \n",
      "886               completed          93            100             95   \n",
      "903               completed          93            100            100   \n",
      "916               completed         100            100            100   \n",
      "919               completed          91             96             91   \n",
      "957                    none          92            100            100   \n",
      "962                    none         100            100            100   \n",
      "979                    none          91             95             94   \n",
      "\n",
      "     total_score  percentage  \n",
      "114          299   99.666667  \n",
      "149          293   97.666667  \n",
      "165          296   98.666667  \n",
      "179          297   99.000000  \n",
      "451          289   96.333333  \n",
      "458          300  100.000000  \n",
      "546          289   96.333333  \n",
      "566          292   97.333333  \n",
      "571          279   93.000000  \n",
      "594          291   97.000000  \n",
      "625          296   98.666667  \n",
      "685          293   97.666667  \n",
      "712          297   99.000000  \n",
      "717          291   97.000000  \n",
      "855          290   96.666667  \n",
      "864          281   93.666667  \n",
      "886          288   96.000000  \n",
      "903          293   97.666667  \n",
      "916          300  100.000000  \n",
      "919          278   92.666667  \n",
      "957          292   97.333333  \n",
      "962          300  100.000000  \n",
      "979          280   93.333333  \n"
     ]
    }
   ],
   "source": [
    "# 5. Find students who scored above 90% in\n",
    "high_scorers = students_df[(students_df['math score'] > 90) & \n",
    "                           (students_df['reading score'] > 90) & \n",
    "                           (students_df['writing score'] > 90)]\n",
    "print(high_scorers)\n"
   ]
  },
  {
   "cell_type": "code",
   "execution_count": null,
   "id": "431bb633-0b92-4adc-b5e4-44058e8eef6d",
   "metadata": {},
   "outputs": [],
   "source": [
    " # PART 5 ...."
   ]
  },
  {
   "cell_type": "code",
   "execution_count": 91,
   "id": "cfa0c442-f4e5-4ec0-b319-04456e1cf04d",
   "metadata": {},
   "outputs": [],
   "source": [
    "# Load data\n",
    "flight_df = pd.read_csv('Clean_Dataset.csv')"
   ]
  },
  {
   "cell_type": "code",
   "execution_count": 92,
   "id": "a944418c-e521-4f90-aaf2-41646d24273f",
   "metadata": {},
   "outputs": [
    {
     "name": "stdout",
     "output_type": "stream",
     "text": [
      "<class 'pandas.core.frame.DataFrame'>\n",
      "RangeIndex: 300153 entries, 0 to 300152\n",
      "Data columns (total 12 columns):\n",
      " #   Column            Non-Null Count   Dtype  \n",
      "---  ------            --------------   -----  \n",
      " 0   Unnamed: 0        300153 non-null  int64  \n",
      " 1   airline           300153 non-null  object \n",
      " 2   flight            300153 non-null  object \n",
      " 3   source_city       300153 non-null  object \n",
      " 4   departure_time    300153 non-null  object \n",
      " 5   stops             300153 non-null  object \n",
      " 6   arrival_time      300153 non-null  object \n",
      " 7   destination_city  300153 non-null  object \n",
      " 8   class             300153 non-null  object \n",
      " 9   duration          300153 non-null  float64\n",
      " 10  days_left         300153 non-null  int64  \n",
      " 11  price             300153 non-null  int64  \n",
      "dtypes: float64(1), int64(3), object(8)\n",
      "memory usage: 27.5+ MB\n",
      "None\n",
      "          Unnamed: 0       duration      days_left          price\n",
      "count  300153.000000  300153.000000  300153.000000  300153.000000\n",
      "mean   150076.000000      12.221021      26.004751   20889.660523\n",
      "std     86646.852011       7.191997      13.561004   22697.767366\n",
      "min         0.000000       0.830000       1.000000    1105.000000\n",
      "25%     75038.000000       6.830000      15.000000    4783.000000\n",
      "50%    150076.000000      11.250000      26.000000    7425.000000\n",
      "75%    225114.000000      16.170000      38.000000   42521.000000\n",
      "max    300152.000000      49.830000      49.000000  123071.000000\n"
     ]
    }
   ],
   "source": [
    "# 1. Display basic info using .info() and .describe() .\n",
    "print(flight_df.info())\n",
    "print(flight_df.describe())\n"
   ]
  },
  {
   "cell_type": "code",
   "execution_count": 113,
   "id": "35c6668c-a105-46ec-bae4-d61fbd37538a",
   "metadata": {},
   "outputs": [
    {
     "name": "stdout",
     "output_type": "stream",
     "text": [
      "Index(['departure_Afternoon', 'departure_Early_Morning', 'departure_Evening',\n",
      "       'departure_Late_Night', 'departure_Morning', 'departure_Night'],\n",
      "      dtype='object')\n",
      "   Unnamed: 0   airline   flight source_city departure_time stops  \\\n",
      "0           0  SpiceJet  SG-8709       Delhi        Evening  zero   \n",
      "1           1  SpiceJet  SG-8157       Delhi  Early_Morning  zero   \n",
      "2           2   AirAsia   I5-764       Delhi  Early_Morning  zero   \n",
      "3           3   Vistara   UK-995       Delhi        Morning  zero   \n",
      "4           4   Vistara   UK-963       Delhi        Morning  zero   \n",
      "\n",
      "    arrival_time destination_city    class  duration  days_left  price  \\\n",
      "0          Night           Mumbai  Economy      2.17          1   5953   \n",
      "1        Morning           Mumbai  Economy      2.33          1   5953   \n",
      "2  Early_Morning           Mumbai  Economy      2.17          1   5956   \n",
      "3      Afternoon           Mumbai  Economy      2.25          1   5955   \n",
      "4        Morning           Mumbai  Economy      2.33          1   5955   \n",
      "\n",
      "   departure_Afternoon  departure_Early_Morning  departure_Evening  \\\n",
      "0                    0                        0                  1   \n",
      "1                    0                        1                  0   \n",
      "2                    0                        1                  0   \n",
      "3                    0                        0                  0   \n",
      "4                    0                        0                  0   \n",
      "\n",
      "   departure_Late_Night  departure_Morning  departure_Night  \n",
      "0                     0                  0                0  \n",
      "1                     0                  0                0  \n",
      "2                     0                  0                0  \n",
      "3                     0                  1                0  \n",
      "4                     0                  1                0  \n"
     ]
    }
   ],
   "source": [
    "# 2. Convert date/time columns to appropriate datetime format.\n",
    "flight_df = pd.read_csv('Clean_Dataset.csv')\n",
    "flight_df.columns = flight_df.columns.str.strip()\n",
    "flight_df['departure_time'] = flight_df['departure_time'].str.strip()\n",
    "departure_dummies = pd.get_dummies(flight_df['departure_time'], prefix='departure', dtype=int)\n",
    "flight_df = pd.concat([flight_df, departure_dummies], axis=1)\n",
    "print(flight_df.columns[-len(departure_dummies.columns):])\n",
    "\n",
    "print(flight_df.head())\n",
    "\n"
   ]
  },
  {
   "cell_type": "code",
   "execution_count": 104,
   "id": "31d46fa2-16b4-471f-b123-f41be1d18691",
   "metadata": {
    "scrolled": true
   },
   "outputs": [],
   "source": [
    "# 3. Create columns for Journey Day and Month.\n",
    "flight_df = pd.read_csv('Clean_Dataset.csv')\n",
    "flight_df.columns = flight_df.columns.str.strip().str.lower()\n",
    "if 'date_of_journey' in flight_df.columns:\n",
    "    flight_df['date_of_journey'] = pd.to_datetime(flight_df['date_of_journey'], errors='coerce')\n",
    "    flight_df['journey_day'] = flight_df['date_of_journey'].dt.day\n",
    "    flight_df['journey_month'] = flight_df['date_of_journey'].dt.month\n",
    "if 'airline' in flight_df.columns:\n",
    "    most_frequent_airline = flight_df['airline'].mode()[0]\n",
    "if 'source_city' in flight_df.columns:\n",
    "    most_frequent_source = flight_df['source_city'].mode()[0]\n",
    "flight_df.drop_duplicates(inplace=True)\n",
    "flight_df = flight_df.ffill()\n",
    "\n"
   ]
  },
  {
   "cell_type": "code",
   "execution_count": 106,
   "id": "9471c409-ec14-475f-963a-904bd0d784d3",
   "metadata": {},
   "outputs": [
    {
     "name": "stdout",
     "output_type": "stream",
     "text": [
      "Most frequent airline: Vistara\n",
      "Most frequent source city: Delhi\n"
     ]
    }
   ],
   "source": [
    "# 4. Find the most frequent airline and source city.\n",
    "print(\"Most frequent airline:\", flight_df['airline'].mode()[0])\n",
    "print(\"Most frequent source city:\", flight_df['source_city'].mode()[0])\n"
   ]
  },
  {
   "cell_type": "code",
   "execution_count": 107,
   "id": "2267e913-8268-4502-9c68-c04b3098a66a",
   "metadata": {},
   "outputs": [],
   "source": [
    "# 5. Remove any duplicates and handle missing values.\n",
    "flight_df.drop_duplicates(inplace=True)\n",
    "flight_df.ffill(inplace=True)\n",
    "\n"
   ]
  },
  {
   "cell_type": "code",
   "execution_count": null,
   "id": "69026a3e-04df-462a-b315-adc7fa36b25a",
   "metadata": {},
   "outputs": [],
   "source": []
  }
 ],
 "metadata": {
  "kernelspec": {
   "display_name": "Python [conda env:base] *",
   "language": "python",
   "name": "conda-base-py"
  },
  "language_info": {
   "codemirror_mode": {
    "name": "ipython",
    "version": 3
   },
   "file_extension": ".py",
   "mimetype": "text/x-python",
   "name": "python",
   "nbconvert_exporter": "python",
   "pygments_lexer": "ipython3",
   "version": "3.12.7"
  }
 },
 "nbformat": 4,
 "nbformat_minor": 5
}
